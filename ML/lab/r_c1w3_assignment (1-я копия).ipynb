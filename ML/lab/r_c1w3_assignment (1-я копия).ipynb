#task:
#callback -> accuracy 99.5% -> 10 epoch

#0.
!python add_metadata.py --filename C1W3_Assignment.ipynd

#1.
import os
import numy as np
import tensorflow as tf
from tensorflow import keras

#2. load data
# curent working directory
current_dir = os.getcwd()

# Append data/mnist.npz to the previous path to get the full path
data_path = os.path.join(current_dir, "data/mnist.npz")

# Get only training set
(traning_images, traning_labels), _ = tf.keras.dataets.mnist.load_data(path=data_path)


#3. подготовка даты
def reshape_and_normalize(images):
	# reshape the images to add an extra dimension
	images = np.expand_dims(images, axis=-1)

    # Нормализуем значения пикселей, чтобы они находились в диапазоне от 0 до 1
    images = images / 255.0

	return images

#3.1. Тест
  # reload the images in case you this cell multiple times
	(training_images, _), _ = tf.keras.datasets.mnist.load_data(path=data_path)
	# apply your function
	training_images = reshape_and_normalize(traning_images)

	print(f"Maximum pixel value after normalization: {np.max(training_images)}\n")
	print(f"Shape of training set after reshaping: {training_images.shape}\n")
	print(f"Shape of one image after reshaping: {training_images[0].shape}")

#4. Defining your callback
# Remember to inherit from the correct class
class myCallback(keras.callbacks.Callback):
    # Define the method that checks the accuracy at the end of each epoch
    def on_epoch_end(self, epoch, logs={}):
        if(logs.get('accuracy') >=0.995):
            print("\ncallback -> accuracy 99.5% -> 10 epoch ")
            self.model.stop_training = True
callbacks = myCallback()

#5. Convolutional Model

# GRADED FUNCTION: convolutional_model
def convolutional_model():
    ### START CODE HERE

    # Define the model
    model = tf.keras.models.Sequential([
        tf.keras.layers.Flatten(input_shape=(28, 28)),
        tf.keras.layers.Dense(512, activation=tf.nn.relu),
        tf.keras.layers.Dense(10, activation=tf.nn.softmax)
    ])
    ### END CODE HERE

    # Compile the model
    model.compile(optimizer='adam',
                  loss='sparse_categorical_crossentropy',
                  metrics=['accuracy'])
        
    return model

#5.1.

# Save your untrained model
model = convolutional_model()

# Get number of weights
model_params = model.count_params()

# Unit test to limit the size of the model
assert model_params < 1000000, (
    f'Your model has {model_params:,} params. For successful grading, please keep it ' 
    f'under 1,000,000 by reducing the number of units in your Conv2D and/or Dense layers.'
)

# Instantiate the callback class
callbacks = myCallback()

# Train your model (this can take up to 5 minutes)
history = model.fit(training_images, training_labels, epochs=10, callbacks=[callbacks])

#5.2. перепроверка за сколько епох дело сделано
print(f"Your model was trained for {len(history.epoch)} epochs")

#5.3. 
if not "accuracy" in history.model.metrics_names:
    print("Use 'accuracy' as metric when compiling your model.")
else:
    print("The metric was correctly defined.")
